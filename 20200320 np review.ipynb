{
 "cells": [
  {
   "cell_type": "markdown",
   "metadata": {},
   "source": [
    "总结：\n",
    "搞了这么久到底学到多少东西  只看是不行的  写别人的代码也是不行的  必须有自己的思考\n",
    "得好好去想想 为什么这么做，  能不能换种方式做一做， 而且很多东西需要自己多写  多记"
   ]
  },
  {
   "cell_type": "markdown",
   "metadata": {},
   "source": [
    "找到数组[1,2,0,0,4,0]中非0元素的位置索引(索引到的是位置)"
   ]
  },
  {
   "cell_type": "code",
   "execution_count": 19,
   "metadata": {},
   "outputs": [
    {
     "name": "stdout",
     "output_type": "stream",
     "text": [
      "2\n",
      "(array([0], dtype=int64),)\n"
     ]
    }
   ],
   "source": [
    "import numpy as np\n",
    "a = [3]   \n",
    "Z = np.nonzero(a)\n",
    "print(np.array(Z).ndim)  #索引值数组是2 维的。实际上，无论a的维度是多少，索引值数组一定是2维的tuple（元组），但是tuple中的一维array个数和a的维数一致。\n",
    "print(Z)\n"
   ]
  },
  {
   "cell_type": "markdown",
   "metadata": {},
   "source": [
    "Python的元组与列表类似，不同之处在于元组的元素不能修改。\n",
    "\n",
    "元组使用小括号，列表使用方括号。\n",
    "\n",
    "元组创建很简单，只需要在括号中添加元素，并使用逗号隔开即可。\n",
    "tup2 = (1, 2, 3, 4, 5, 6, 7 ) 这就是一个元组  不能修改  list元素能够进行修改"
   ]
  },
  {
   "cell_type": "code",
   "execution_count": null,
   "metadata": {},
   "outputs": [],
   "source": []
  },
  {
   "cell_type": "code",
   "execution_count": 11,
   "metadata": {},
   "outputs": [
    {
     "name": "stdout",
     "output_type": "stream",
     "text": [
      "2\n",
      "(array([1, 2], dtype=int64),)\n"
     ]
    }
   ],
   "source": [
    "a = [0,2,3]\n",
    "b = np.nonzero(a)\n",
    "print(np.array(b).ndim)  # return到的是索引数组\n",
    "print(b)"
   ]
  },
  {
   "cell_type": "code",
   "execution_count": 54,
   "metadata": {},
   "outputs": [
    {
     "name": "stdout",
     "output_type": "stream",
     "text": [
      "[[0 1 2 3 4 3 2 1 0]\n",
      " [0 1 2 3 4 5 6 7 0]]\n",
      "(array([0, 0, 0, 0, 0, 0, 0, 1, 1, 1, 1, 1, 1, 1], dtype=int64), array([1, 2, 3, 4, 5, 6, 7, 1, 2, 3, 4, 5, 6, 7], dtype=int64))\n"
     ]
    }
   ],
   "source": [
    "A = np.mat([[0,1,2,3,4,3,2,1,0],[0,1,2,3,4,5,6,7,0]]) #把输入解释成一个矩阵。\n",
    "print(A)  #这样就变成了一个矩阵\n",
    "x = np.nonzero(A)  #取出矩阵中的非零元素的坐标   A.nonzero()和np.nonzero(A)的效果是一样的 对于二维也是一样   返回索引的元组\n",
    "print (x)   #输出是一个元组，两个维度。一一对应，\n",
    "            # #返回非零元素在矩阵中的位置,前一个列表存放非零行坐标，后一个列表存放非零元素列坐标"
   ]
  },
  {
   "cell_type": "markdown",
   "metadata": {},
   "source": [
    "数组如何科学的转化为矩阵"
   ]
  },
  {
   "cell_type": "code",
   "execution_count": 52,
   "metadata": {},
   "outputs": [
    {
     "name": "stdout",
     "output_type": "stream",
     "text": [
      "[[0 2 4]]\n",
      "[[0]]\n",
      "[[0 2]]\n"
     ]
    }
   ],
   "source": [
    "list=([4,2,3], [2,0,4])#矩阵是含有两个括号的\n",
    "m = np.mat(list)\n",
    "m = np.sort(m)   #按照行进行升序排列\n",
    "a = m[1,:]  #取第一行的所有元素 不管第一行的维度\n",
    "print(a)\n",
    "b = m[1,0:1]  #取第一行的第零个元素  最后的那个1表示取一个元素\n",
    "print(b)\n",
    "c = m[1,0:2] #取第一行的前两个元素\n",
    "print(c)"
   ]
  },
  {
   "cell_type": "code",
   "execution_count": 24,
   "metadata": {},
   "outputs": [
    {
     "data": {
      "text/plain": [
       "array([1, 2, 3])"
      ]
     },
     "execution_count": 24,
     "metadata": {},
     "output_type": "execute_result"
    }
   ],
   "source": [
    "n = np.array([1,2,3])\n",
    "n  #这里得到的是一个array数组"
   ]
  },
  {
   "cell_type": "markdown",
   "metadata": {},
   "source": [
    "用不同的方法去提取一个随机数组的整数部分"
   ]
  },
  {
   "cell_type": "code",
   "execution_count": 66,
   "metadata": {},
   "outputs": [
    {
     "name": "stdout",
     "output_type": "stream",
     "text": [
      "[1. 8. 5. 6. 3. 8. 1. 7. 5. 7.]\n",
      "[1. 8. 5. 6. 3. 8. 1. 7. 5. 7.]\n",
      "[1. 9. 5. 7. 3. 9. 2. 7. 5. 8.]\n",
      "[1. 8. 5. 6. 3. 8. 1. 7. 5. 7.]\n",
      "[1. 8. 5. 6. 3. 8. 1. 7. 5. 7.]\n",
      "[1 8 5 6 3 8 1 7 5 7]\n"
     ]
    }
   ],
   "source": [
    "z = np.random.uniform(0,10,10)  \n",
    "print(z - z%1)\n",
    "print(np.floor(z))  #np.floor 向下取整 \n",
    "print(np.around(z)) #np.around表示进行四舍五入\n",
    "#print(np.int(z)) 只有大小为1的数组可以转换为Python标量\n",
    "print(np.ceil(z)-1)  #np.ceil()表示向上取整，-1 那就是和np.floor的道理是一样的\n",
    "print(np.trunc(z))  #标量x的截断值是最接近的整数i，比x更接近零。简而言之，有符号数x的小数部分将被丢弃。  和向下取整np.ceil()的效果是一样的\n",
    "print(z.astype(int)) #定义数据的类型z"
   ]
  },
  {
   "cell_type": "markdown",
   "metadata": {},
   "source": [
    " 创建一个5x5的矩阵，其中每行的数值范围从1到5"
   ]
  },
  {
   "cell_type": "code",
   "execution_count": 73,
   "metadata": {},
   "outputs": [
    {
     "name": "stdout",
     "output_type": "stream",
     "text": [
      "[[1. 2. 3. 4. 5.]\n",
      " [1. 2. 3. 4. 5.]\n",
      " [1. 2. 3. 4. 5.]\n",
      " [1. 2. 3. 4. 5.]\n",
      " [1. 2. 3. 4. 5.]]\n"
     ]
    }
   ],
   "source": [
    "z = np.ones((5,5))\n",
    "z +=np.arange(5)\n",
    "print(z)"
   ]
  },
  {
   "cell_type": "markdown",
   "metadata": {},
   "source": [
    "对于一个已经存在的数组，如何添加一个用0填充的边界?\n",
    "在卷积神经网络中，为了避免因为卷积运算导致输出图像缩小和图像边缘信息丢失，常常采用图像边缘填充技术，\n",
    "即在图像四周边缘填充0，使得卷积运算后图像大小不会缩小，同时也不会丢失边缘和角落的信息"
   ]
  },
  {
   "cell_type": "code",
   "execution_count": 79,
   "metadata": {
    "scrolled": true
   },
   "outputs": [
    {
     "name": "stdout",
     "output_type": "stream",
     "text": [
      "[[0. 0. 0. 0. 0. 0. 0. 0. 0.]\n",
      " [0. 0. 0. 0. 0. 0. 0. 0. 0.]\n",
      " [0. 0. 1. 1. 1. 1. 1. 0. 0.]\n",
      " [0. 0. 1. 1. 1. 1. 1. 0. 0.]\n",
      " [0. 0. 1. 1. 1. 1. 1. 0. 0.]\n",
      " [0. 0. 1. 1. 1. 1. 1. 0. 0.]\n",
      " [0. 0. 1. 1. 1. 1. 1. 0. 0.]\n",
      " [0. 0. 0. 0. 0. 0. 0. 0. 0.]\n",
      " [0. 0. 0. 0. 0. 0. 0. 0. 0.]]\n"
     ]
    }
   ],
   "source": [
    "Z = np.ones((5,5))\n",
    "Z = np.pad(Z, pad_width=2, mode='constant', constant_values=0)#d_width 表示每个轴（axis）边缘需要填充的数值数目\n",
    "print(Z)  #mode——表示填充的方式（取值：str字符串或用户提供的函数）,总共有11种填充模式 "
   ]
  },
  {
   "cell_type": "markdown",
   "metadata": {},
   "source": [
    "打印每个numpy标量类型的最小值和最大值"
   ]
  },
  {
   "cell_type": "code",
   "execution_count": 80,
   "metadata": {},
   "outputs": [
    {
     "name": "stdout",
     "output_type": "stream",
     "text": [
      "-128\n",
      "127\n",
      "-2147483648\n",
      "2147483647\n",
      "-9223372036854775808\n",
      "9223372036854775807\n",
      "-3.4028235e+38\n",
      "3.4028235e+38\n",
      "1.1920929e-07\n",
      "-1.7976931348623157e+308\n",
      "1.7976931348623157e+308\n",
      "2.220446049250313e-16\n"
     ]
    }
   ],
   "source": [
    "for dtype in [np.int8, np.int32, np.int64]:\n",
    "    print(np.iinfo(dtype).min)\n",
    "    print(np.iinfo(dtype).max)\n",
    "\n",
    "for dtype in [np.float32, np.float64]:\n",
    "    print(np.finfo(dtype).min)\n",
    "    print(np.finfo(dtype).max)\n",
    "    print(np.finfo(dtype).eps)"
   ]
  },
  {
   "cell_type": "code",
   "execution_count": null,
   "metadata": {},
   "outputs": [],
   "source": []
  }
 ],
 "metadata": {
  "kernelspec": {
   "display_name": "Python 3",
   "language": "python",
   "name": "python3"
  },
  "language_info": {
   "codemirror_mode": {
    "name": "ipython",
    "version": 3
   },
   "file_extension": ".py",
   "mimetype": "text/x-python",
   "name": "python",
   "nbconvert_exporter": "python",
   "pygments_lexer": "ipython3",
   "version": "3.6.5"
  }
 },
 "nbformat": 4,
 "nbformat_minor": 2
}
